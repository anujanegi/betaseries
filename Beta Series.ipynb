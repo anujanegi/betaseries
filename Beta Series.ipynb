{
 "cells": [
  {
   "cell_type": "code",
   "execution_count": 2,
   "metadata": {},
   "outputs": [],
   "source": [
    "%matplotlib inline"
   ]
  },
  {
   "cell_type": "code",
   "execution_count": 4,
   "metadata": {},
   "outputs": [],
   "source": [
    "import scipy.io\n",
    "import numpy as np\n",
    "import pandas as pd\n",
    "\n",
    "import tempfile  # make a temporary directory for files\n",
    "import os  # interact with the filesystem\n",
    "import urllib.request  # grad data from internet\n",
    "import tarfile  # extract files from tar\n",
    "from subprocess import Popen, PIPE, STDOUT  # enable calling commandline\n",
    "\n",
    "import matplotlib.pyplot as plt  # manipulate figures\n",
    "import seaborn as sns  # display results\n",
    "import pandas as pd   # manipulate tabular data\n",
    "import nibabel as nib  # load the beta maps in python\n",
    "from nilearn import plotting  # plot nifti images"
   ]
  },
  {
   "cell_type": "markdown",
   "metadata": {},
   "source": [
    "### Events file creation"
   ]
  },
  {
   "cell_type": "code",
   "execution_count": 12,
   "metadata": {},
   "outputs": [],
   "source": [
    "subj = 4\n",
    "onset_times = np.loadtxt('../data/scannerlogs/onset_times_sub-%02d.mat'%subj)\n",
    "onset_times\n",
    "onset_times = onset_times[:3] #for the first run"
   ]
  },
  {
   "cell_type": "code",
   "execution_count": 13,
   "metadata": {},
   "outputs": [],
   "source": [
    "onset_times\n",
    "run_num = 1\n",
    "trial_type = np.array([['Human']*onset_times.shape[1], ['Robot']*onset_times.shape[1], ['PC']*onset_times.shape[1]]*run_num)"
   ]
  },
  {
   "cell_type": "code",
   "execution_count": 14,
   "metadata": {},
   "outputs": [],
   "source": [
    "events = pd.DataFrame()\n",
    "events['onset'] = onset_times.flatten()\n",
    "events['duration'] = 1\n",
    "events['trial_type'] = trial_type.flatten()\n",
    "events = events.sort_values(by=['onset'])\n",
    "\n",
    "events.to_csv('../data/sub-%02d_events.tsv'%subj, sep=\"\\t\", na_rep=\"n/a\", index=False)"
   ]
  },
  {
   "cell_type": "code",
   "execution_count": 15,
   "metadata": {},
   "outputs": [
    {
     "name": "stdout",
     "output_type": "stream",
     "text": [
      "   onset  duration trial_type\n",
      "0   12.0         1      Robot\n",
      "1   32.0         1      Robot\n",
      "2   52.0         1      Human\n",
      "3   86.0         1         PC\n",
      "4  104.0         1      Human\n"
     ]
    }
   ],
   "source": [
    "events_file = '../data/sub-%02d_events.tsv'%subj\n",
    "events_df = pd.read_csv(events_file, sep='\\t', na_values=\"n/a\")\n",
    "print(events_df.head())"
   ]
  },
  {
   "cell_type": "code",
   "execution_count": null,
   "metadata": {},
   "outputs": [],
   "source": []
  }
 ],
 "metadata": {
  "kernelspec": {
   "display_name": "Python 3",
   "language": "python",
   "name": "python3"
  },
  "language_info": {
   "codemirror_mode": {
    "name": "ipython",
    "version": 3
   },
   "file_extension": ".py",
   "mimetype": "text/x-python",
   "name": "python",
   "nbconvert_exporter": "python",
   "pygments_lexer": "ipython3",
   "version": "3.6.13"
  }
 },
 "nbformat": 4,
 "nbformat_minor": 4
}
