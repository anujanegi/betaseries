{
 "cells": [
  {
   "cell_type": "code",
   "execution_count": 2,
   "metadata": {},
   "outputs": [],
   "source": [
    "%matplotlib inline"
   ]
  },
  {
   "cell_type": "code",
   "execution_count": 16,
   "metadata": {},
   "outputs": [],
   "source": [
    "import scipy.io\n",
    "import numpy as np\n",
    "import pandas as pd"
   ]
  },
  {
   "cell_type": "code",
   "execution_count": 28,
   "metadata": {},
   "outputs": [
    {
     "data": {
      "text/plain": [
       "array([[120., 140., 174., 228., 342., 404., 456., 478.],\n",
       "       [ 24.,  78., 208., 246., 322., 364., 536., 556.],\n",
       "       [ 44.,  98., 278., 300., 382., 422., 496., 518.],\n",
       "       [ 30.,  88., 212., 234., 378., 398., 452., 562.],\n",
       "       [ 12., 134., 192., 270., 312., 420., 524., 582.],\n",
       "       [ 66., 114., 152., 174., 290., 352., 486., 544.],\n",
       "       [ 90., 157., 251., 291., 353., 417., 545., 567.],\n",
       "       [ 32., 125., 179., 219., 313., 373., 475., 507.],\n",
       "       [ 12.,  68., 201., 271., 331., 395., 435., 525.],\n",
       "       [ 46.,  64., 192., 244., 374., 430., 532., 570.],\n",
       "       [102., 150., 226., 278., 340., 452., 494., 550.],\n",
       "       [ 12., 128., 300., 322., 392., 410., 472., 512.],\n",
       "       [ 12.,  32., 132., 234., 392., 410., 478., 536.],\n",
       "       [ 54.,  72., 154., 174., 272., 326., 446., 498.],\n",
       "       [ 94., 114., 208., 254., 306., 346., 516., 570.],\n",
       "       [ 62., 164., 204., 278., 392., 440., 494., 596.],\n",
       "       [110., 144., 182., 242., 344., 372., 474., 576.],\n",
       "       [ 26.,  84., 222., 260., 322., 410., 536., 554.]])"
      ]
     },
     "execution_count": 28,
     "metadata": {},
     "output_type": "execute_result"
    }
   ],
   "source": [
    "subj = 3\n",
    "onset_times = np.loadtxt('../data/scannerlogs/onset_times_sub-%02d.mat'%subj)\n",
    "onset_times"
   ]
  },
  {
   "cell_type": "code",
   "execution_count": 26,
   "metadata": {},
   "outputs": [
    {
     "data": {
      "text/plain": [
       "array(['Human', 'Human', 'Human', 'Human', 'Human', 'Human', 'Human',\n",
       "       'Human', 'Robot', 'Robot', 'Robot', 'Robot', 'Robot', 'Robot',\n",
       "       'Robot', 'Robot', 'PC', 'PC', 'PC', 'PC', 'PC', 'PC', 'PC', 'PC',\n",
       "       'Human', 'Human', 'Human', 'Human', 'Human', 'Human', 'Human',\n",
       "       'Human', 'Robot', 'Robot', 'Robot', 'Robot', 'Robot', 'Robot',\n",
       "       'Robot', 'Robot', 'PC', 'PC', 'PC', 'PC', 'PC', 'PC', 'PC', 'PC',\n",
       "       'Human', 'Human', 'Human', 'Human', 'Human', 'Human', 'Human',\n",
       "       'Human', 'Robot', 'Robot', 'Robot', 'Robot', 'Robot', 'Robot',\n",
       "       'Robot', 'Robot', 'PC', 'PC', 'PC', 'PC', 'PC', 'PC', 'PC', 'PC',\n",
       "       'Human', 'Human', 'Human', 'Human', 'Human', 'Human', 'Human',\n",
       "       'Human', 'Robot', 'Robot', 'Robot', 'Robot', 'Robot', 'Robot',\n",
       "       'Robot', 'Robot', 'PC', 'PC', 'PC', 'PC', 'PC', 'PC', 'PC', 'PC',\n",
       "       'Human', 'Human', 'Human', 'Human', 'Human', 'Human', 'Human',\n",
       "       'Human', 'Robot', 'Robot', 'Robot', 'Robot', 'Robot', 'Robot',\n",
       "       'Robot', 'Robot', 'PC', 'PC', 'PC', 'PC', 'PC', 'PC', 'PC', 'PC',\n",
       "       'Human', 'Human', 'Human', 'Human', 'Human', 'Human', 'Human',\n",
       "       'Human', 'Robot', 'Robot', 'Robot', 'Robot', 'Robot', 'Robot',\n",
       "       'Robot', 'Robot', 'PC', 'PC', 'PC', 'PC', 'PC', 'PC', 'PC', 'PC'],\n",
       "      dtype='<U5')"
      ]
     },
     "execution_count": 26,
     "metadata": {},
     "output_type": "execute_result"
    }
   ],
   "source": [
    "onset_times\n",
    "run_num = 6\n",
    "trial_type = np.array([['Human']*onset_times.shape[1], ['Robot']*onset_times.shape[1], ['PC']*onset_times.shape[1]]*run_num)"
   ]
  },
  {
   "cell_type": "code",
   "execution_count": 40,
   "metadata": {},
   "outputs": [],
   "source": [
    "events = pd.DataFrame()\n",
    "events['onset'] = onset_times.flatten()\n",
    "events['duration'] = 1\n",
    "events['trial_type'] = trial_type.flatten()\n",
    "events = events.sort_values(by=['onset'])\n",
    "\n",
    "events.to_csv('../data/sub-%02d_events.tsv'%subj, sep=\"\\t\", na_rep=\"n/a\", index=False)"
   ]
  },
  {
   "cell_type": "code",
   "execution_count": null,
   "metadata": {},
   "outputs": [],
   "source": []
  }
 ],
 "metadata": {
  "kernelspec": {
   "display_name": "Python 3",
   "language": "python",
   "name": "python3"
  },
  "language_info": {
   "codemirror_mode": {
    "name": "ipython",
    "version": 3
   },
   "file_extension": ".py",
   "mimetype": "text/x-python",
   "name": "python",
   "nbconvert_exporter": "python",
   "pygments_lexer": "ipython3",
   "version": "3.6.13"
  }
 },
 "nbformat": 4,
 "nbformat_minor": 4
}
