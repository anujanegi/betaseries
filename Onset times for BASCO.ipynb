{
 "cells": [
  {
   "cell_type": "code",
   "execution_count": 1,
   "metadata": {},
   "outputs": [],
   "source": [
    "import scipy.io\n",
    "import numpy as np\n",
    "import pandas as pd\n",
    "import os"
   ]
  },
  {
   "cell_type": "code",
   "execution_count": 2,
   "metadata": {},
   "outputs": [],
   "source": [
    "# define parameters here\n",
    "PATH_TO_DERIVATIVES = '/media/anujanegi/Anuja Negi/newdatafromdorris/doris2anuja/derivatives/preprocessed'\n",
    "ONSET_TIMES_DIR = '/media/anujanegi/Anuja Negi/newdatafromdorris/doris2anuja/scannerlogs'\n",
    "NUM_OF_RUNS = 6\n",
    "NUM_OF_CONDITIONS = 3"
   ]
  },
  {
   "cell_type": "markdown",
   "metadata": {},
   "source": [
    "### Onset times formatting for usage in BASCO"
   ]
  },
  {
   "cell_type": "code",
   "execution_count": 3,
   "metadata": {},
   "outputs": [],
   "source": [
    "def format_onset_times(subj):\n",
    "    # load onset file\n",
    "    onset_times_file = os.path.join(ONSET_TIMES_DIR, 'onset_times_sub-%02d.txt'%subj)\n",
    "    onset_times = np.loadtxt(onset_times_file)\n",
    "    \n",
    "    # format for BASCO and save \n",
    "    for i, run in zip(range(0, onset_times.shape[0], NUM_OF_CONDITIONS), range(1, NUM_OF_RUNS+1)):\n",
    "        path_to_save = os.path.join(PATH_TO_DERIVATIVES, 'sub-%03d'%subj, 'func', 'run%02d'%run, 'onset_times_%d.txt'%run)\n",
    "        np.savetxt(path_to_save, onset_times[i: i+NUM_OF_CONDITIONS])"
   ]
  },
  {
   "cell_type": "code",
   "execution_count": 4,
   "metadata": {},
   "outputs": [],
   "source": [
    "for subject in range(1,58):\n",
    "    try:\n",
    "        format_onset_times(subject)\n",
    "    except:\n",
    "        continue"
   ]
  }
 ],
 "metadata": {
  "kernelspec": {
   "display_name": "Python 3",
   "language": "python",
   "name": "python3"
  },
  "language_info": {
   "codemirror_mode": {
    "name": "ipython",
    "version": 3
   },
   "file_extension": ".py",
   "mimetype": "text/x-python",
   "name": "python",
   "nbconvert_exporter": "python",
   "pygments_lexer": "ipython3",
   "version": "3.8.5"
  }
 },
 "nbformat": 4,
 "nbformat_minor": 4
}
